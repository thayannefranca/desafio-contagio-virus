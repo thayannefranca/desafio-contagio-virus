{
 "cells": [
  {
   "cell_type": "markdown",
   "id": "998fce4e-5db6-4938-b5fe-b3a369cc9639",
   "metadata": {},
   "source": [
    "# <font color='green' style='font-size: 30px;'>Bibliotecas usadas</font>\n",
    "<hr style='border: 2px solid green;'>"
   ]
  },
  {
   "cell_type": "code",
   "execution_count": 217,
   "id": "456a696a-0b92-4286-9dbf-028977057174",
   "metadata": {},
   "outputs": [],
   "source": [
    "import pandas as pd\n",
    "import numpy as np\n",
    "import seaborn as sns"
   ]
  },
  {
   "cell_type": "code",
   "execution_count": 218,
   "id": "aa6f8b1f-3746-4dd5-b70a-0189c554768e",
   "metadata": {},
   "outputs": [],
   "source": [
    "sns.set_palette(\"Accent\")\n",
    "sns.set_style(\"darkgrid\")"
   ]
  },
  {
   "cell_type": "markdown",
   "id": "135275a5-cdc5-4458-a829-ad7aa10b1bdf",
   "metadata": {},
   "source": [
    "# <font color='green' style='font-size: 30px;'>Problema</font>\n",
    "<hr style='border: 2px solid green;'>"
   ]
  },
  {
   "cell_type": "markdown",
   "id": "09acdcb3-9c24-4a9f-b34f-dbec272119ff",
   "metadata": {},
   "source": [
    "# <font color='gray' style='font-size: 20px;'>Descrição do problema</font>"
   ]
  },
  {
   "cell_type": "markdown",
   "id": "7a8c0637-582a-4a68-bee4-6fa327a0bc49",
   "metadata": {},
   "source": [
    "Você é um funcionário da OMS que deve avaliar os níveis de contaminação de um vírus em um determinado país. As pessoas dentro de uma sociedade podem estar conectadas de alguma maneira (familia, amizade ou trabalho) e cada pessoa possui um conjunto de atributos."
   ]
  },
  {
   "cell_type": "markdown",
   "id": "637629ca-5ece-4581-9f3b-bbfa1bf1c1cb",
   "metadata": {},
   "source": [
    "# <font color='gray' style='font-size: 20px;'>Comportamento do vírus</font>"
   ]
  },
  {
   "cell_type": "markdown",
   "id": "1e7b67f1-77fa-4a1c-97fd-f029fc62280b",
   "metadata": {},
   "source": [
    "<b>Este vírus afeta esta sociedade como descrito a seguir: </b>\n",
    "\n",
    "● a taxa de contaminação varia de pessoa para pessoa;\n",
    "\n",
    "● a taxa de contaminação de uma pessoa A para B é diferente de B para A e depende\n",
    "das características de ambas as pessoas (A e B);\n",
    "\n",
    "● a contaminação só passa através de indivíduos conectados;\n",
    "\n",
    "● não existe cura para essa doença;"
   ]
  },
  {
   "cell_type": "markdown",
   "id": "f1265637-fcaa-4d06-97ab-218902f72fa4",
   "metadata": {},
   "source": [
    "# <font color='gray' style='font-size: 20px;'>Desafio</font>"
   ]
  },
  {
   "cell_type": "markdown",
   "id": "94a73ced-b6de-4a00-b8a0-d1846cae67f4",
   "metadata": {},
   "source": [
    "Foram coletados os dados de contaminação (ou seja, as taxas de contaminação) para metade desta sociedade. Neste problema, você deverá estimar a taxa para o restante dessa sociedade\n",
    "e decidir políticas de saúde com base nos resultados obtidos."
   ]
  },
  {
   "cell_type": "markdown",
   "id": "6cd860e6-a5ce-4f50-8c94-e787f24ddeff",
   "metadata": {},
   "source": [
    "# <font color='gray' style='font-size: 20px;'>Observação</font>"
   ]
  },
  {
   "cell_type": "markdown",
   "id": "67dd19b8-1f2f-447e-85ea-f961723d14e0",
   "metadata": {},
   "source": [
    "Para determinar as taxas de contaminação, devem ser levados em consideração tanto as características dos infectados quanto dos infectantes."
   ]
  },
  {
   "cell_type": "markdown",
   "id": "bf4fe7b7-02e5-48e8-85fe-0f61f4f79965",
   "metadata": {},
   "source": [
    "# <font color='green' style='font-size: 30px;'>Analisando dataset conexões</font>\n",
    "<hr style='border: 2px solid green;'>"
   ]
  },
  {
   "cell_type": "code",
   "execution_count": 194,
   "id": "2d0f6685-0163-4f78-ac2a-47baf8d90d07",
   "metadata": {},
   "outputs": [
    {
     "data": {
      "text/html": [
       "<div>\n",
       "<style scoped>\n",
       "    .dataframe tbody tr th:only-of-type {\n",
       "        vertical-align: middle;\n",
       "    }\n",
       "\n",
       "    .dataframe tbody tr th {\n",
       "        vertical-align: top;\n",
       "    }\n",
       "\n",
       "    .dataframe thead th {\n",
       "        text-align: right;\n",
       "    }\n",
       "</style>\n",
       "<table border=\"1\" class=\"dataframe\">\n",
       "  <thead>\n",
       "    <tr style=\"text-align: right;\">\n",
       "      <th></th>\n",
       "      <th>V1</th>\n",
       "      <th>V2</th>\n",
       "      <th>grau</th>\n",
       "      <th>proximidade</th>\n",
       "      <th>prob_V1_V2</th>\n",
       "    </tr>\n",
       "  </thead>\n",
       "  <tbody>\n",
       "    <tr>\n",
       "      <th>0</th>\n",
       "      <td>1</td>\n",
       "      <td>2</td>\n",
       "      <td>trabalho</td>\n",
       "      <td>visita_frequente</td>\n",
       "      <td>0.589462</td>\n",
       "    </tr>\n",
       "    <tr>\n",
       "      <th>1</th>\n",
       "      <td>1</td>\n",
       "      <td>3</td>\n",
       "      <td>trabalho</td>\n",
       "      <td>visita_rara</td>\n",
       "      <td>0.708465</td>\n",
       "    </tr>\n",
       "    <tr>\n",
       "      <th>2</th>\n",
       "      <td>2</td>\n",
       "      <td>4</td>\n",
       "      <td>trabalho</td>\n",
       "      <td>visita_casual</td>\n",
       "      <td>NaN</td>\n",
       "    </tr>\n",
       "    <tr>\n",
       "      <th>3</th>\n",
       "      <td>2</td>\n",
       "      <td>5</td>\n",
       "      <td>trabalho</td>\n",
       "      <td>visita_rara</td>\n",
       "      <td>0.638842</td>\n",
       "    </tr>\n",
       "    <tr>\n",
       "      <th>4</th>\n",
       "      <td>3</td>\n",
       "      <td>6</td>\n",
       "      <td>amigos</td>\n",
       "      <td>mora_junto</td>\n",
       "      <td>NaN</td>\n",
       "    </tr>\n",
       "  </tbody>\n",
       "</table>\n",
       "</div>"
      ],
      "text/plain": [
       "   V1  V2      grau       proximidade  prob_V1_V2\n",
       "0   1   2  trabalho  visita_frequente    0.589462\n",
       "1   1   3  trabalho       visita_rara    0.708465\n",
       "2   2   4  trabalho     visita_casual         NaN\n",
       "3   2   5  trabalho       visita_rara    0.638842\n",
       "4   3   6    amigos        mora_junto         NaN"
      ]
     },
     "execution_count": 194,
     "metadata": {},
     "output_type": "execute_result"
    }
   ],
   "source": [
    "df_conexoes = pd.read_csv('data/conexoes_espec.csv', sep=';')\n",
    "df_conexoes.head()"
   ]
  },
  {
   "cell_type": "code",
   "execution_count": 195,
   "id": "8d32a1ae-19fd-44ab-a94a-621794593279",
   "metadata": {},
   "outputs": [
    {
     "data": {
      "text/plain": [
       "(999999, 5)"
      ]
     },
     "execution_count": 195,
     "metadata": {},
     "output_type": "execute_result"
    }
   ],
   "source": [
    "df_conexoes.shape"
   ]
  },
  {
   "cell_type": "code",
   "execution_count": 196,
   "id": "bcb49cc2-9f1e-440a-a24b-10b7852b2c86",
   "metadata": {},
   "outputs": [
    {
     "name": "stdout",
     "output_type": "stream",
     "text": [
      "<class 'pandas.core.frame.DataFrame'>\n",
      "RangeIndex: 999999 entries, 0 to 999998\n",
      "Data columns (total 5 columns):\n",
      " #   Column       Non-Null Count   Dtype  \n",
      "---  ------       --------------   -----  \n",
      " 0   V1           999999 non-null  int64  \n",
      " 1   V2           999999 non-null  int64  \n",
      " 2   grau         999999 non-null  object \n",
      " 3   proximidade  999999 non-null  object \n",
      " 4   prob_V1_V2   499999 non-null  float64\n",
      "dtypes: float64(1), int64(2), object(2)\n",
      "memory usage: 38.1+ MB\n"
     ]
    }
   ],
   "source": [
    "df_conexoes.info()"
   ]
  },
  {
   "cell_type": "code",
   "execution_count": 198,
   "id": "e8eb7196-5500-437c-bb62-f7de510ff409",
   "metadata": {},
   "outputs": [
    {
     "name": "stdout",
     "output_type": "stream",
     "text": [
      "Quantidade de dados nulos \n",
      " V1                  0\n",
      "V2                  0\n",
      "grau                0\n",
      "proximidade         0\n",
      "prob_V1_V2     500000\n",
      "dtype: int64\n"
     ]
    }
   ],
   "source": [
    "#Verificando se há valores nulos no dataframe\n",
    "print ('Quantidade de dados nulos \\n', df_conexoes.isna().sum())"
   ]
  },
  {
   "cell_type": "markdown",
   "id": "d2f1d94d-38d5-4c54-af63-d1446d396fe2",
   "metadata": {},
   "source": [
    "# <font color='green' style='font-size: 30px;'>Preenchendo os dados faltantes pela média correspondente dos valores dos atributos grau e proximidade</font>\n",
    "<hr style='border: 2px solid green;'>"
   ]
  },
  {
   "cell_type": "code",
   "execution_count": 199,
   "id": "5b6b13f7-0ed8-4a25-9d65-c8e6680018e3",
   "metadata": {},
   "outputs": [],
   "source": [
    "def preenchendo_dados_faltantes_prob_V1_V2(df_conexoes):\n",
    "    df_conexoes['prob_V1_V2'] = df_conexoes['prob_V1_V2'].fillna(df_conexoes.groupby(['grau', 'proximidade'])['prob_V1_V2'].transform('mean'))\n",
    "    \n",
    "    return df_conexoes"
   ]
  },
  {
   "cell_type": "markdown",
   "id": "3dcef2ba-4524-4554-a74f-33b5dca00269",
   "metadata": {},
   "source": [
    "# <font color='green' style='font-size: 30px;'>Analisando dataset individuos</font>\n",
    "<hr style='border: 2px solid green;'>"
   ]
  },
  {
   "cell_type": "code",
   "execution_count": 200,
   "id": "2866d2e7-0ff0-4880-b68e-beaf4344f2ef",
   "metadata": {},
   "outputs": [
    {
     "data": {
      "text/html": [
       "<div>\n",
       "<style scoped>\n",
       "    .dataframe tbody tr th:only-of-type {\n",
       "        vertical-align: middle;\n",
       "    }\n",
       "\n",
       "    .dataframe tbody tr th {\n",
       "        vertical-align: top;\n",
       "    }\n",
       "\n",
       "    .dataframe thead th {\n",
       "        text-align: right;\n",
       "    }\n",
       "</style>\n",
       "<table border=\"1\" class=\"dataframe\">\n",
       "  <thead>\n",
       "    <tr style=\"text-align: right;\">\n",
       "      <th></th>\n",
       "      <th>name</th>\n",
       "      <th>idade</th>\n",
       "      <th>estado_civil</th>\n",
       "      <th>qt_filhos</th>\n",
       "      <th>estuda</th>\n",
       "      <th>trabalha</th>\n",
       "      <th>pratica_esportes</th>\n",
       "      <th>transporte_mais_utilizado</th>\n",
       "      <th>IMC</th>\n",
       "    </tr>\n",
       "  </thead>\n",
       "  <tbody>\n",
       "    <tr>\n",
       "      <th>0</th>\n",
       "      <td>1</td>\n",
       "      <td>44.0</td>\n",
       "      <td>divorciado</td>\n",
       "      <td>1.0</td>\n",
       "      <td>1.0</td>\n",
       "      <td>0.0</td>\n",
       "      <td>1.0</td>\n",
       "      <td>publico</td>\n",
       "      <td>22.200956</td>\n",
       "    </tr>\n",
       "    <tr>\n",
       "      <th>1</th>\n",
       "      <td>2</td>\n",
       "      <td>24.0</td>\n",
       "      <td>casado</td>\n",
       "      <td>0.0</td>\n",
       "      <td>0.0</td>\n",
       "      <td>0.0</td>\n",
       "      <td>1.0</td>\n",
       "      <td>publico</td>\n",
       "      <td>25.378720</td>\n",
       "    </tr>\n",
       "    <tr>\n",
       "      <th>2</th>\n",
       "      <td>3</td>\n",
       "      <td>35.0</td>\n",
       "      <td>solteiro</td>\n",
       "      <td>1.0</td>\n",
       "      <td>0.0</td>\n",
       "      <td>0.0</td>\n",
       "      <td>1.0</td>\n",
       "      <td>particular</td>\n",
       "      <td>19.952393</td>\n",
       "    </tr>\n",
       "    <tr>\n",
       "      <th>3</th>\n",
       "      <td>4</td>\n",
       "      <td>50.0</td>\n",
       "      <td>casado</td>\n",
       "      <td>1.0</td>\n",
       "      <td>1.0</td>\n",
       "      <td>1.0</td>\n",
       "      <td>0.0</td>\n",
       "      <td>publico</td>\n",
       "      <td>26.732053</td>\n",
       "    </tr>\n",
       "    <tr>\n",
       "      <th>4</th>\n",
       "      <td>5</td>\n",
       "      <td>30.0</td>\n",
       "      <td>solteiro</td>\n",
       "      <td>2.0</td>\n",
       "      <td>1.0</td>\n",
       "      <td>0.0</td>\n",
       "      <td>1.0</td>\n",
       "      <td>publico</td>\n",
       "      <td>15.295668</td>\n",
       "    </tr>\n",
       "    <tr>\n",
       "      <th>5</th>\n",
       "      <td>6</td>\n",
       "      <td>20.0</td>\n",
       "      <td>NaN</td>\n",
       "      <td>1.0</td>\n",
       "      <td>0.0</td>\n",
       "      <td>1.0</td>\n",
       "      <td>0.0</td>\n",
       "      <td>publico</td>\n",
       "      <td>20.412942</td>\n",
       "    </tr>\n",
       "    <tr>\n",
       "      <th>6</th>\n",
       "      <td>7</td>\n",
       "      <td>55.0</td>\n",
       "      <td>solteiro</td>\n",
       "      <td>1.0</td>\n",
       "      <td>1.0</td>\n",
       "      <td>1.0</td>\n",
       "      <td>1.0</td>\n",
       "      <td>particular</td>\n",
       "      <td>NaN</td>\n",
       "    </tr>\n",
       "    <tr>\n",
       "      <th>7</th>\n",
       "      <td>8</td>\n",
       "      <td>50.0</td>\n",
       "      <td>divorciado</td>\n",
       "      <td>0.0</td>\n",
       "      <td>1.0</td>\n",
       "      <td>0.0</td>\n",
       "      <td>NaN</td>\n",
       "      <td>publico</td>\n",
       "      <td>21.445628</td>\n",
       "    </tr>\n",
       "    <tr>\n",
       "      <th>8</th>\n",
       "      <td>9</td>\n",
       "      <td>42.0</td>\n",
       "      <td>divorciado</td>\n",
       "      <td>1.0</td>\n",
       "      <td>0.0</td>\n",
       "      <td>1.0</td>\n",
       "      <td>NaN</td>\n",
       "      <td>publico</td>\n",
       "      <td>40.793339</td>\n",
       "    </tr>\n",
       "    <tr>\n",
       "      <th>9</th>\n",
       "      <td>10</td>\n",
       "      <td>24.0</td>\n",
       "      <td>divorciado</td>\n",
       "      <td>0.0</td>\n",
       "      <td>0.0</td>\n",
       "      <td>0.0</td>\n",
       "      <td>1.0</td>\n",
       "      <td>publico</td>\n",
       "      <td>26.866953</td>\n",
       "    </tr>\n",
       "    <tr>\n",
       "      <th>10</th>\n",
       "      <td>11</td>\n",
       "      <td>21.0</td>\n",
       "      <td>solteiro</td>\n",
       "      <td>0.0</td>\n",
       "      <td>0.0</td>\n",
       "      <td>0.0</td>\n",
       "      <td>0.0</td>\n",
       "      <td>publico</td>\n",
       "      <td>24.375770</td>\n",
       "    </tr>\n",
       "    <tr>\n",
       "      <th>11</th>\n",
       "      <td>12</td>\n",
       "      <td>42.0</td>\n",
       "      <td>viuvo</td>\n",
       "      <td>1.0</td>\n",
       "      <td>0.0</td>\n",
       "      <td>1.0</td>\n",
       "      <td>0.0</td>\n",
       "      <td>publico</td>\n",
       "      <td>NaN</td>\n",
       "    </tr>\n",
       "    <tr>\n",
       "      <th>12</th>\n",
       "      <td>13</td>\n",
       "      <td>24.0</td>\n",
       "      <td>divorciado</td>\n",
       "      <td>1.0</td>\n",
       "      <td>1.0</td>\n",
       "      <td>1.0</td>\n",
       "      <td>1.0</td>\n",
       "      <td>publico</td>\n",
       "      <td>31.668750</td>\n",
       "    </tr>\n",
       "    <tr>\n",
       "      <th>13</th>\n",
       "      <td>14</td>\n",
       "      <td>29.0</td>\n",
       "      <td>divorciado</td>\n",
       "      <td>1.0</td>\n",
       "      <td>0.0</td>\n",
       "      <td>0.0</td>\n",
       "      <td>0.0</td>\n",
       "      <td>publico</td>\n",
       "      <td>25.373051</td>\n",
       "    </tr>\n",
       "    <tr>\n",
       "      <th>14</th>\n",
       "      <td>15</td>\n",
       "      <td>18.0</td>\n",
       "      <td>divorciado</td>\n",
       "      <td>0.0</td>\n",
       "      <td>1.0</td>\n",
       "      <td>1.0</td>\n",
       "      <td>0.0</td>\n",
       "      <td>taxi</td>\n",
       "      <td>16.365026</td>\n",
       "    </tr>\n",
       "    <tr>\n",
       "      <th>15</th>\n",
       "      <td>16</td>\n",
       "      <td>38.0</td>\n",
       "      <td>viuvo</td>\n",
       "      <td>3.0</td>\n",
       "      <td>NaN</td>\n",
       "      <td>1.0</td>\n",
       "      <td>1.0</td>\n",
       "      <td>publico</td>\n",
       "      <td>NaN</td>\n",
       "    </tr>\n",
       "    <tr>\n",
       "      <th>16</th>\n",
       "      <td>17</td>\n",
       "      <td>NaN</td>\n",
       "      <td>solteiro</td>\n",
       "      <td>0.0</td>\n",
       "      <td>1.0</td>\n",
       "      <td>1.0</td>\n",
       "      <td>1.0</td>\n",
       "      <td>publico</td>\n",
       "      <td>NaN</td>\n",
       "    </tr>\n",
       "  </tbody>\n",
       "</table>\n",
       "</div>"
      ],
      "text/plain": [
       "    name  idade estado_civil  qt_filhos  estuda  trabalha  pratica_esportes  \\\n",
       "0      1   44.0   divorciado        1.0     1.0       0.0               1.0   \n",
       "1      2   24.0       casado        0.0     0.0       0.0               1.0   \n",
       "2      3   35.0     solteiro        1.0     0.0       0.0               1.0   \n",
       "3      4   50.0       casado        1.0     1.0       1.0               0.0   \n",
       "4      5   30.0     solteiro        2.0     1.0       0.0               1.0   \n",
       "5      6   20.0          NaN        1.0     0.0       1.0               0.0   \n",
       "6      7   55.0     solteiro        1.0     1.0       1.0               1.0   \n",
       "7      8   50.0   divorciado        0.0     1.0       0.0               NaN   \n",
       "8      9   42.0   divorciado        1.0     0.0       1.0               NaN   \n",
       "9     10   24.0   divorciado        0.0     0.0       0.0               1.0   \n",
       "10    11   21.0     solteiro        0.0     0.0       0.0               0.0   \n",
       "11    12   42.0        viuvo        1.0     0.0       1.0               0.0   \n",
       "12    13   24.0   divorciado        1.0     1.0       1.0               1.0   \n",
       "13    14   29.0   divorciado        1.0     0.0       0.0               0.0   \n",
       "14    15   18.0   divorciado        0.0     1.0       1.0               0.0   \n",
       "15    16   38.0        viuvo        3.0     NaN       1.0               1.0   \n",
       "16    17    NaN     solteiro        0.0     1.0       1.0               1.0   \n",
       "\n",
       "   transporte_mais_utilizado        IMC  \n",
       "0                    publico  22.200956  \n",
       "1                    publico  25.378720  \n",
       "2                 particular  19.952393  \n",
       "3                    publico  26.732053  \n",
       "4                    publico  15.295668  \n",
       "5                    publico  20.412942  \n",
       "6                 particular        NaN  \n",
       "7                    publico  21.445628  \n",
       "8                    publico  40.793339  \n",
       "9                    publico  26.866953  \n",
       "10                   publico  24.375770  \n",
       "11                   publico        NaN  \n",
       "12                   publico  31.668750  \n",
       "13                   publico  25.373051  \n",
       "14                      taxi  16.365026  \n",
       "15                   publico        NaN  \n",
       "16                   publico        NaN  "
      ]
     },
     "execution_count": 200,
     "metadata": {},
     "output_type": "execute_result"
    }
   ],
   "source": [
    "df_individuos = pd.read_csv('data/individuos_espec.csv', sep=';')\n",
    "df_individuos.head(17)"
   ]
  },
  {
   "cell_type": "code",
   "execution_count": 201,
   "id": "7a8aa067-8a56-45fe-b165-29c6938b5db8",
   "metadata": {},
   "outputs": [
    {
     "data": {
      "text/plain": [
       "(1000000, 9)"
      ]
     },
     "execution_count": 201,
     "metadata": {},
     "output_type": "execute_result"
    }
   ],
   "source": [
    "df_individuos.shape"
   ]
  },
  {
   "cell_type": "code",
   "execution_count": 202,
   "id": "904ad11d-c020-412c-a4a3-da0fe6ffff20",
   "metadata": {},
   "outputs": [
    {
     "name": "stdout",
     "output_type": "stream",
     "text": [
      "<class 'pandas.core.frame.DataFrame'>\n",
      "RangeIndex: 1000000 entries, 0 to 999999\n",
      "Data columns (total 9 columns):\n",
      " #   Column                     Non-Null Count    Dtype  \n",
      "---  ------                     --------------    -----  \n",
      " 0   name                       1000000 non-null  int64  \n",
      " 1   idade                      904063 non-null   float64\n",
      " 2   estado_civil               949927 non-null   object \n",
      " 3   qt_filhos                  971133 non-null   float64\n",
      " 4   estuda                     959870 non-null   float64\n",
      " 5   trabalha                   993647 non-null   float64\n",
      " 6   pratica_esportes           850876 non-null   float64\n",
      " 7   transporte_mais_utilizado  956967 non-null   object \n",
      " 8   IMC                        886130 non-null   float64\n",
      "dtypes: float64(6), int64(1), object(2)\n",
      "memory usage: 68.7+ MB\n"
     ]
    }
   ],
   "source": [
    "df_individuos.info()"
   ]
  },
  {
   "cell_type": "code",
   "execution_count": 204,
   "id": "1acd1e7d-2dce-4842-8234-e13e30e56d71",
   "metadata": {},
   "outputs": [
    {
     "name": "stdout",
     "output_type": "stream",
     "text": [
      "Quantidade de dados nulos \n",
      " name                              0\n",
      "idade                         95937\n",
      "estado_civil                  50073\n",
      "qt_filhos                     28867\n",
      "estuda                        40130\n",
      "trabalha                       6353\n",
      "pratica_esportes             149124\n",
      "transporte_mais_utilizado     43033\n",
      "IMC                          113870\n",
      "dtype: int64\n"
     ]
    }
   ],
   "source": [
    "#Verificando se há valores nulos no dataframe\n",
    "print ('Quantidade de dados nulos \\n', df_individuos.isna().sum())"
   ]
  },
  {
   "cell_type": "markdown",
   "id": "e1cb8321-230e-4f8a-8898-36982c5ea47b",
   "metadata": {},
   "source": [
    "# <font color='green' style='font-size: 30px;'>Preenchendo dos dados faltantes</font>\n",
    "<hr style='border: 2px solid green;'>"
   ]
  },
  {
   "cell_type": "markdown",
   "id": "b55826cd-54e3-45e1-8b82-0465f229762c",
   "metadata": {},
   "source": [
    "# <font color='gray' style='font-size: 20px;'>Preenchendo dos dados faltantes do tipo categorico como 'Desconhecido'</font>"
   ]
  },
  {
   "cell_type": "code",
   "execution_count": 205,
   "id": "9005a788-d87b-499e-bbdc-6581b1986c43",
   "metadata": {},
   "outputs": [],
   "source": [
    "def preenchendo_dados_categoricos(df_individuos, colunas):\n",
    "    for coluna in colunas:\n",
    "        df_individuos[coluna] = df_individuos[coluna].fillna('Desconhecido')\n",
    "    \n",
    "    return df_individuos"
   ]
  },
  {
   "cell_type": "code",
   "execution_count": 206,
   "id": "24d3b856-95c6-4db0-b04d-0bd168c7b6b3",
   "metadata": {},
   "outputs": [],
   "source": [
    "colunas_categoricas = ['estado_civil', 'estuda', 'trabalha', 'pratica_esportes', 'transporte_mais_utilizado']"
   ]
  },
  {
   "cell_type": "markdown",
   "id": "9c5ab2b5-cfb2-4f38-b8db-69474c208583",
   "metadata": {},
   "source": [
    "# <font color='gray' style='font-size: 20px;'>Preenchendo os dados faltantes da idade pela média correspondente do valor da idade por estado_civil</font>"
   ]
  },
  {
   "cell_type": "code",
   "execution_count": 207,
   "id": "d566f027-32f9-430e-8b24-0b8874cb3b34",
   "metadata": {},
   "outputs": [],
   "source": [
    "def preenchendo_dados_faltantes_idade(df_individuos):\n",
    "    df_individuos['idade'] = df_individuos['idade'].fillna(df_individuos.groupby('estado_civil')['idade'].transform('mean')).astype(int)\n",
    "    \n",
    "    return df_individuos"
   ]
  },
  {
   "cell_type": "markdown",
   "id": "42e6bd27-948f-4c50-ad37-fd8b3a8140bd",
   "metadata": {},
   "source": [
    "# <font color='gray' style='font-size: 20px;'>Preenchendo os dados faltantes do IMC pela média correspondente se a pessoa é sendetario ou não</font>"
   ]
  },
  {
   "cell_type": "code",
   "execution_count": 208,
   "id": "71ed2274-87bf-495f-b1ce-d037556acd05",
   "metadata": {},
   "outputs": [],
   "source": [
    "def preenchendo_dados_faltantes_IMC(df_individuos):\n",
    "    df_individuos['IMC'] = df_individuos['IMC'].fillna(df_individuos.groupby('pratica_esportes')['IMC'].transform('mean'))\n",
    "    \n",
    "    return df_individuos"
   ]
  },
  {
   "cell_type": "markdown",
   "id": "50ec1fd1-b79d-4945-beaa-16a385404e9b",
   "metadata": {},
   "source": [
    "# <font color='gray' style='font-size: 20px;'>Preenchendo os dados faltantes da quantidade de filhos pela média de filhos pelo atributo estado_civil</font>"
   ]
  },
  {
   "cell_type": "code",
   "execution_count": 209,
   "id": "4e598c4f-6b59-492d-a817-7607fad06090",
   "metadata": {},
   "outputs": [],
   "source": [
    "def preenchendo_dados_faltantes_qt_filhos(df_individuos):\n",
    "    df_individuos['qt_filhos'] = df_individuos['qt_filhos'].fillna(df_individuos.groupby('estado_civil')['qt_filhos'].transform('mean')).astype(int)\n",
    "    \n",
    "    return df_individuos"
   ]
  },
  {
   "cell_type": "markdown",
   "id": "af1830a4-a11c-4c0c-a581-cb24defcdc4e",
   "metadata": {},
   "source": [
    "# <font color='green' style='font-size: 30px;'>Verificando dados duplicados</font>\n",
    "<hr style='border: 2px solid green;'>"
   ]
  },
  {
   "cell_type": "code",
   "execution_count": 210,
   "id": "71de5d4f-b74e-49e1-b66e-77056bf4dcb6",
   "metadata": {},
   "outputs": [],
   "source": [
    "#Limpando dados duplicado do dataset conexoes, deixando apenas a primeira ocorrência\n",
    "def verificando_removendo_duplicados(df):\n",
    "    df.drop_duplicates(keep='first', inplace=True) "
   ]
  },
  {
   "cell_type": "markdown",
   "id": "7bc6ed6e-5e20-42a2-858a-04b598aaf4b7",
   "metadata": {},
   "source": [
    "# <font color='green' style='font-size: 30px;'>Verificando outliers</font>\n",
    "<hr style='border: 2px solid green;'>"
   ]
  },
  {
   "cell_type": "code",
   "execution_count": 219,
   "id": "8adb7245-0bfe-4ba4-a4ac-e3169beaf47c",
   "metadata": {},
   "outputs": [
    {
     "data": {
      "text/plain": [
       "<AxesSubplot:title={'center':'Taxa de contaminação'}>"
      ]
     },
     "execution_count": 219,
     "metadata": {},
     "output_type": "execute_result"
    },
    {
     "data": {
      "image/png": "[encoded data removed]",
      "text/plain": [
       "<Figure size 864x432 with 1 Axes>"
      ]
     },
     "metadata": {},
     "output_type": "display_data"
    }
   ],
   "source": [
    "ax = sns.boxplot(data=df_conexoes['prob_V1_V2'], width = 0.2)\n",
    "ax.figure.set_size_inches(12,6)\n",
    "ax.set_title('Taxa de contaminação')\n",
    "ax"
   ]
  },
  {
   "cell_type": "code",
   "execution_count": 214,
   "id": "954d08d5-ee55-4f39-9f7d-16796a158f76",
   "metadata": {},
   "outputs": [
    {
     "data": {
      "text/html": [
       "<div>\n",
       "<style scoped>\n",
       "    .dataframe tbody tr th:only-of-type {\n",
       "        vertical-align: middle;\n",
       "    }\n",
       "\n",
       "    .dataframe tbody tr th {\n",
       "        vertical-align: top;\n",
       "    }\n",
       "\n",
       "    .dataframe thead th {\n",
       "        text-align: right;\n",
       "    }\n",
       "</style>\n",
       "<table border=\"1\" class=\"dataframe\">\n",
       "  <thead>\n",
       "    <tr style=\"text-align: right;\">\n",
       "      <th></th>\n",
       "      <th>V1</th>\n",
       "      <th>V2</th>\n",
       "      <th>grau</th>\n",
       "      <th>proximidade</th>\n",
       "      <th>prob_V1_V2</th>\n",
       "    </tr>\n",
       "  </thead>\n",
       "  <tbody>\n",
       "    <tr>\n",
       "      <th>count</th>\n",
       "      <td>999999.000000</td>\n",
       "      <td>999999.000000</td>\n",
       "      <td>999999</td>\n",
       "      <td>999999</td>\n",
       "      <td>499999.000000</td>\n",
       "    </tr>\n",
       "    <tr>\n",
       "      <th>unique</th>\n",
       "      <td>NaN</td>\n",
       "      <td>NaN</td>\n",
       "      <td>3</td>\n",
       "      <td>4</td>\n",
       "      <td>NaN</td>\n",
       "    </tr>\n",
       "    <tr>\n",
       "      <th>top</th>\n",
       "      <td>NaN</td>\n",
       "      <td>NaN</td>\n",
       "      <td>trabalho</td>\n",
       "      <td>visita_rara</td>\n",
       "      <td>NaN</td>\n",
       "    </tr>\n",
       "    <tr>\n",
       "      <th>freq</th>\n",
       "      <td>NaN</td>\n",
       "      <td>NaN</td>\n",
       "      <td>333548</td>\n",
       "      <td>400238</td>\n",
       "      <td>NaN</td>\n",
       "    </tr>\n",
       "    <tr>\n",
       "      <th>mean</th>\n",
       "      <td>250000.250000</td>\n",
       "      <td>500001.000000</td>\n",
       "      <td>NaN</td>\n",
       "      <td>NaN</td>\n",
       "      <td>0.485162</td>\n",
       "    </tr>\n",
       "    <tr>\n",
       "      <th>std</th>\n",
       "      <td>144337.495129</td>\n",
       "      <td>288674.990257</td>\n",
       "      <td>NaN</td>\n",
       "      <td>NaN</td>\n",
       "      <td>0.173963</td>\n",
       "    </tr>\n",
       "    <tr>\n",
       "      <th>min</th>\n",
       "      <td>1.000000</td>\n",
       "      <td>2.000000</td>\n",
       "      <td>NaN</td>\n",
       "      <td>NaN</td>\n",
       "      <td>0.074462</td>\n",
       "    </tr>\n",
       "    <tr>\n",
       "      <th>25%</th>\n",
       "      <td>125000.500000</td>\n",
       "      <td>250001.500000</td>\n",
       "      <td>NaN</td>\n",
       "      <td>NaN</td>\n",
       "      <td>0.351677</td>\n",
       "    </tr>\n",
       "    <tr>\n",
       "      <th>50%</th>\n",
       "      <td>250000.000000</td>\n",
       "      <td>500001.000000</td>\n",
       "      <td>NaN</td>\n",
       "      <td>NaN</td>\n",
       "      <td>0.486413</td>\n",
       "    </tr>\n",
       "    <tr>\n",
       "      <th>75%</th>\n",
       "      <td>375000.000000</td>\n",
       "      <td>750000.500000</td>\n",
       "      <td>NaN</td>\n",
       "      <td>NaN</td>\n",
       "      <td>0.618210</td>\n",
       "    </tr>\n",
       "    <tr>\n",
       "      <th>max</th>\n",
       "      <td>500000.000000</td>\n",
       "      <td>1000000.000000</td>\n",
       "      <td>NaN</td>\n",
       "      <td>NaN</td>\n",
       "      <td>0.942245</td>\n",
       "    </tr>\n",
       "  </tbody>\n",
       "</table>\n",
       "</div>"
      ],
      "text/plain": [
       "                   V1              V2      grau  proximidade     prob_V1_V2\n",
       "count   999999.000000   999999.000000    999999       999999  499999.000000\n",
       "unique            NaN             NaN         3            4            NaN\n",
       "top               NaN             NaN  trabalho  visita_rara            NaN\n",
       "freq              NaN             NaN    333548       400238            NaN\n",
       "mean    250000.250000   500001.000000       NaN          NaN       0.485162\n",
       "std     144337.495129   288674.990257       NaN          NaN       0.173963\n",
       "min          1.000000        2.000000       NaN          NaN       0.074462\n",
       "25%     125000.500000   250001.500000       NaN          NaN       0.351677\n",
       "50%     250000.000000   500001.000000       NaN          NaN       0.486413\n",
       "75%     375000.000000   750000.500000       NaN          NaN       0.618210\n",
       "max     500000.000000  1000000.000000       NaN          NaN       0.942245"
      ]
     },
     "execution_count": 214,
     "metadata": {},
     "output_type": "execute_result"
    }
   ],
   "source": [
    "#Observando a descrição do dataframe conexões, não aparentar ter outliers\n",
    "#Taxa de contaminação entre 0.074462 e 0.942245\n",
    "df_conexoes.describe(include='all')"
   ]
  },
  {
   "cell_type": "code",
   "execution_count": 222,
   "id": "51a5fc5f-4963-4032-8426-ead68ec5d3b2",
   "metadata": {},
   "outputs": [
    {
     "data": {
      "text/plain": [
       "<AxesSubplot:title={'center':'Faixa etária dos individuos'}>"
      ]
     },
     "execution_count": 222,
     "metadata": {},
     "output_type": "execute_result"
    },
    {
     "data": {
      "image/png": "[encoded data removed]",
      "text/plain": [
       "<Figure size 864x432 with 1 Axes>"
      ]
     },
     "metadata": {},
     "output_type": "display_data"
    }
   ],
   "source": [
    "ax = sns.boxplot(data=df_individuos['idade'], width = 0.2)\n",
    "ax.figure.set_size_inches(12,6)\n",
    "ax.set_title('Faixa etária dos individuos')\n",
    "ax"
   ]
  },
  {
   "cell_type": "code",
   "execution_count": 223,
   "id": "6991aa0f-9656-4814-94cb-7c2c01c11747",
   "metadata": {},
   "outputs": [
    {
     "data": {
      "text/plain": [
       "<AxesSubplot:title={'center':'Quantidade de filho dos individuos'}>"
      ]
     },
     "execution_count": 223,
     "metadata": {},
     "output_type": "execute_result"
    },
    {
     "data": {
      "image/png": "[encoded data removed]",
      "text/plain": [
       "<Figure size 864x432 with 1 Axes>"
      ]
     },
     "metadata": {},
     "output_type": "display_data"
    }
   ],
   "source": [
    "ax = sns.boxplot(data=df_individuos['qt_filhos'], width = 0.2)\n",
    "ax.figure.set_size_inches(12,6)\n",
    "ax.set_title('Quantidade de filho dos individuos')\n",
    "ax"
   ]
  },
  {
   "cell_type": "code",
   "execution_count": 224,
   "id": "1cd71e51-848e-44f6-91bd-9209d5272a4e",
   "metadata": {},
   "outputs": [
    {
     "data": {
      "text/plain": [
       "<AxesSubplot:title={'center':'IMC dos individuos'}>"
      ]
     },
     "execution_count": 224,
     "metadata": {},
     "output_type": "execute_result"
    },
    {
     "data": {
      "image/png": "[encoded data removed]",
      "text/plain": [
       "<Figure size 864x432 with 1 Axes>"
      ]
     },
     "metadata": {},
     "output_type": "display_data"
    }
   ],
   "source": [
    "ax = sns.boxplot(data=df_individuos['IMC'], width = 0.2)\n",
    "ax.figure.set_size_inches(12,6)\n",
    "ax.set_title('IMC dos individuos')\n",
    "ax"
   ]
  },
  {
   "cell_type": "markdown",
   "id": "3b36e672-ce71-4dd0-b97c-8d1a1dafe8e0",
   "metadata": {},
   "source": [
    "# <font color='gray' style='font-size: 20px;'>Observando descrição para analisar esses possíveis outliers</font>"
   ]
  },
  {
   "cell_type": "code",
   "execution_count": 215,
   "id": "c6e62f5c-99da-42f9-b810-5d1c57007297",
   "metadata": {},
   "outputs": [
    {
     "data": {
      "text/html": [
       "<div>\n",
       "<style scoped>\n",
       "    .dataframe tbody tr th:only-of-type {\n",
       "        vertical-align: middle;\n",
       "    }\n",
       "\n",
       "    .dataframe tbody tr th {\n",
       "        vertical-align: top;\n",
       "    }\n",
       "\n",
       "    .dataframe thead th {\n",
       "        text-align: right;\n",
       "    }\n",
       "</style>\n",
       "<table border=\"1\" class=\"dataframe\">\n",
       "  <thead>\n",
       "    <tr style=\"text-align: right;\">\n",
       "      <th></th>\n",
       "      <th>name</th>\n",
       "      <th>idade</th>\n",
       "      <th>estado_civil</th>\n",
       "      <th>qt_filhos</th>\n",
       "      <th>estuda</th>\n",
       "      <th>trabalha</th>\n",
       "      <th>pratica_esportes</th>\n",
       "      <th>transporte_mais_utilizado</th>\n",
       "      <th>IMC</th>\n",
       "    </tr>\n",
       "  </thead>\n",
       "  <tbody>\n",
       "    <tr>\n",
       "      <th>count</th>\n",
       "      <td>1000000.000000</td>\n",
       "      <td>904063.000000</td>\n",
       "      <td>949927</td>\n",
       "      <td>971133.000000</td>\n",
       "      <td>959870.000000</td>\n",
       "      <td>993647.000000</td>\n",
       "      <td>850876.000000</td>\n",
       "      <td>956967</td>\n",
       "      <td>886130.000000</td>\n",
       "    </tr>\n",
       "    <tr>\n",
       "      <th>unique</th>\n",
       "      <td>NaN</td>\n",
       "      <td>NaN</td>\n",
       "      <td>4</td>\n",
       "      <td>NaN</td>\n",
       "      <td>NaN</td>\n",
       "      <td>NaN</td>\n",
       "      <td>NaN</td>\n",
       "      <td>3</td>\n",
       "      <td>NaN</td>\n",
       "    </tr>\n",
       "    <tr>\n",
       "      <th>top</th>\n",
       "      <td>NaN</td>\n",
       "      <td>NaN</td>\n",
       "      <td>solteiro</td>\n",
       "      <td>NaN</td>\n",
       "      <td>NaN</td>\n",
       "      <td>NaN</td>\n",
       "      <td>NaN</td>\n",
       "      <td>publico</td>\n",
       "      <td>NaN</td>\n",
       "    </tr>\n",
       "    <tr>\n",
       "      <th>freq</th>\n",
       "      <td>NaN</td>\n",
       "      <td>NaN</td>\n",
       "      <td>420637</td>\n",
       "      <td>NaN</td>\n",
       "      <td>NaN</td>\n",
       "      <td>NaN</td>\n",
       "      <td>NaN</td>\n",
       "      <td>574779</td>\n",
       "      <td>NaN</td>\n",
       "    </tr>\n",
       "    <tr>\n",
       "      <th>mean</th>\n",
       "      <td>500000.500000</td>\n",
       "      <td>30.008431</td>\n",
       "      <td>NaN</td>\n",
       "      <td>0.928406</td>\n",
       "      <td>0.442588</td>\n",
       "      <td>0.556739</td>\n",
       "      <td>0.599823</td>\n",
       "      <td>NaN</td>\n",
       "      <td>22.472079</td>\n",
       "    </tr>\n",
       "    <tr>\n",
       "      <th>std</th>\n",
       "      <td>288675.278932</td>\n",
       "      <td>10.951566</td>\n",
       "      <td>NaN</td>\n",
       "      <td>0.997289</td>\n",
       "      <td>0.496693</td>\n",
       "      <td>0.496771</td>\n",
       "      <td>0.489934</td>\n",
       "      <td>NaN</td>\n",
       "      <td>7.073692</td>\n",
       "    </tr>\n",
       "    <tr>\n",
       "      <th>min</th>\n",
       "      <td>1.000000</td>\n",
       "      <td>0.000000</td>\n",
       "      <td>NaN</td>\n",
       "      <td>0.000000</td>\n",
       "      <td>0.000000</td>\n",
       "      <td>0.000000</td>\n",
       "      <td>0.000000</td>\n",
       "      <td>NaN</td>\n",
       "      <td>4.852828</td>\n",
       "    </tr>\n",
       "    <tr>\n",
       "      <th>25%</th>\n",
       "      <td>250000.750000</td>\n",
       "      <td>22.000000</td>\n",
       "      <td>NaN</td>\n",
       "      <td>0.000000</td>\n",
       "      <td>0.000000</td>\n",
       "      <td>0.000000</td>\n",
       "      <td>0.000000</td>\n",
       "      <td>NaN</td>\n",
       "      <td>17.420851</td>\n",
       "    </tr>\n",
       "    <tr>\n",
       "      <th>50%</th>\n",
       "      <td>500000.500000</td>\n",
       "      <td>29.000000</td>\n",
       "      <td>NaN</td>\n",
       "      <td>1.000000</td>\n",
       "      <td>0.000000</td>\n",
       "      <td>1.000000</td>\n",
       "      <td>1.000000</td>\n",
       "      <td>NaN</td>\n",
       "      <td>21.431200</td>\n",
       "    </tr>\n",
       "    <tr>\n",
       "      <th>75%</th>\n",
       "      <td>750000.250000</td>\n",
       "      <td>37.000000</td>\n",
       "      <td>NaN</td>\n",
       "      <td>1.000000</td>\n",
       "      <td>1.000000</td>\n",
       "      <td>1.000000</td>\n",
       "      <td>1.000000</td>\n",
       "      <td>NaN</td>\n",
       "      <td>26.378197</td>\n",
       "    </tr>\n",
       "    <tr>\n",
       "      <th>max</th>\n",
       "      <td>1000000.000000</td>\n",
       "      <td>124.000000</td>\n",
       "      <td>NaN</td>\n",
       "      <td>9.000000</td>\n",
       "      <td>1.000000</td>\n",
       "      <td>1.000000</td>\n",
       "      <td>1.000000</td>\n",
       "      <td>NaN</td>\n",
       "      <td>89.158204</td>\n",
       "    </tr>\n",
       "  </tbody>\n",
       "</table>\n",
       "</div>"
      ],
      "text/plain": [
       "                  name          idade estado_civil      qt_filhos  \\\n",
       "count   1000000.000000  904063.000000       949927  971133.000000   \n",
       "unique             NaN            NaN            4            NaN   \n",
       "top                NaN            NaN     solteiro            NaN   \n",
       "freq               NaN            NaN       420637            NaN   \n",
       "mean     500000.500000      30.008431          NaN       0.928406   \n",
       "std      288675.278932      10.951566          NaN       0.997289   \n",
       "min           1.000000       0.000000          NaN       0.000000   \n",
       "25%      250000.750000      22.000000          NaN       0.000000   \n",
       "50%      500000.500000      29.000000          NaN       1.000000   \n",
       "75%      750000.250000      37.000000          NaN       1.000000   \n",
       "max     1000000.000000     124.000000          NaN       9.000000   \n",
       "\n",
       "               estuda       trabalha  pratica_esportes  \\\n",
       "count   959870.000000  993647.000000     850876.000000   \n",
       "unique            NaN            NaN               NaN   \n",
       "top               NaN            NaN               NaN   \n",
       "freq              NaN            NaN               NaN   \n",
       "mean         0.442588       0.556739          0.599823   \n",
       "std          0.496693       0.496771          0.489934   \n",
       "min          0.000000       0.000000          0.000000   \n",
       "25%          0.000000       0.000000          0.000000   \n",
       "50%          0.000000       1.000000          1.000000   \n",
       "75%          1.000000       1.000000          1.000000   \n",
       "max          1.000000       1.000000          1.000000   \n",
       "\n",
       "       transporte_mais_utilizado            IMC  \n",
       "count                     956967  886130.000000  \n",
       "unique                         3            NaN  \n",
       "top                      publico            NaN  \n",
       "freq                      574779            NaN  \n",
       "mean                         NaN      22.472079  \n",
       "std                          NaN       7.073692  \n",
       "min                          NaN       4.852828  \n",
       "25%                          NaN      17.420851  \n",
       "50%                          NaN      21.431200  \n",
       "75%                          NaN      26.378197  \n",
       "max                          NaN      89.158204  "
      ]
     },
     "execution_count": 215,
     "metadata": {},
     "output_type": "execute_result"
    }
   ],
   "source": [
    "#Observando a descrição do dataframe individuos:\n",
    "\n",
    "#Idade: pode ter recém nascido (0 anos) e a pessoa mais velha do mundo registrada tinha a idade de 122 anos. Mas, ano passado (2021), um homem de 127 anos pode ter sido a pessoa mais velha do mundo.\n",
    "#Fonte: https://www.ebiografia.com/pessoa_mais_velha_do_mundo/\n",
    "#Fonte: https://aventurasnahistoria.uol.com.br/noticias/historia-hoje/homem-que-morreu-aos-127-anos-pode-quebrar-recorde-de-pessoa-mais-velha-do-mundo.phtml\n",
    "#Valores podem está ok\n",
    "\n",
    "#qt_filhos: pessoas podem ter nenhum filho como podem ter 9.\n",
    "#Valores podem está ok\n",
    "\n",
    "#Jon Brower foi o ser humano mais pesado da história, com um peso de aproximadamente 634 kg e tinha a altura de 1,85, gerando um IMC de 185.2.\n",
    "#Fonte: https://top10mais.org/top-10-pessoas-mais-pesadas-do-mundo/\n",
    "#Valores podem está ok\n",
    "df_individuos.describe(include='all')"
   ]
  },
  {
   "cell_type": "code",
   "execution_count": 212,
   "id": "10683101-56d5-421a-86bd-1a16c2390d46",
   "metadata": {},
   "outputs": [],
   "source": [
    "#A abordagem de intervalo interquartil IQR (intervalo interquartil) pode ser usada para encontrar valores discrepantes.\n",
    "#Porém os dados aparenta está ok, pois: podem haver récem nascidos como pessoas de 124 anos, os individuos podem ter 9 filhos, e pode haver individuos com obesidade grau IV (superobesos) com IMC de 89.\n",
    "def verificando_removendo_outliers(df, colunas):\n",
    "    for atributo in colunas:\n",
    "        print(\"Limpeza do atributo {}\".format(atributo))\n",
    "        Q1 = np.percentile(df[atributo], 25,\n",
    "                           interpolation = 'midpoint')\n",
    "\n",
    "        Q3 = np.percentile(df[atributo], 75,\n",
    "                           interpolation = 'midpoint')\n",
    "        IQR = Q3 - Q1\n",
    "\n",
    "        print(\"velho formato: \", df.shape)\n",
    "\n",
    "        # Upper bound\n",
    "        upper = np.where(df[atributo] >= (Q3+1.5*IQR))\n",
    "        # Lower bound\n",
    "        lower = np.where(df[atributo] <= (Q1-1.5*IQR))\n",
    "\n",
    "        #Removendo as outliers\n",
    "        df.drop(upper[0], inplace = True, errors='ignore')\n",
    "        df.drop(lower[0], inplace = True, errors='ignore')\n",
    "\n",
    "        print(\"Novo formato: \", df.shape)\n",
    "        print(\"\\n\")"
   ]
  },
  {
   "cell_type": "code",
   "execution_count": null,
   "id": "2ac751a6-556f-4687-af8f-e36fc23b61a9",
   "metadata": {},
   "outputs": [],
   "source": []
  }
 ],
 "metadata": {
  "kernelspec": {
   "display_name": "Python 3",
   "language": "python",
   "name": "python3"
  },
  "language_info": {
   "codemirror_mode": {
    "name": "ipython",
    "version": 3
   },
   "file_extension": ".py",
   "mimetype": "text/x-python",
   "name": "python",
   "nbconvert_exporter": "python",
   "pygments_lexer": "ipython3",
   "version": "3.7.9"
  }
 },
 "nbformat": 4,
 "nbformat_minor": 5
}
