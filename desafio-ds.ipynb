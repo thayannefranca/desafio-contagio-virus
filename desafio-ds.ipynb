{
 "cells": [
  {
   "cell_type": "markdown",
   "id": "998fce4e-5db6-4938-b5fe-b3a369cc9639",
   "metadata": {},
   "source": [
    "# <font color='green' style='font-size: 30px;'>Bibliotecas usadas</font>\n",
    "<hr style='border: 2px solid green;'>"
   ]
  },
  {
   "cell_type": "code",
   "execution_count": 1,
   "id": "456a696a-0b92-4286-9dbf-028977057174",
   "metadata": {},
   "outputs": [],
   "source": [
    "import pandas as pd"
   ]
  },
  {
   "cell_type": "markdown",
   "id": "135275a5-cdc5-4458-a829-ad7aa10b1bdf",
   "metadata": {},
   "source": [
    "# <font color='green' style='font-size: 30px;'>Problema</font>\n",
    "<hr style='border: 2px solid green;'>"
   ]
  },
  {
   "cell_type": "markdown",
   "id": "09acdcb3-9c24-4a9f-b34f-dbec272119ff",
   "metadata": {},
   "source": [
    "### Descrição do problema"
   ]
  },
  {
   "cell_type": "markdown",
   "id": "7a8c0637-582a-4a68-bee4-6fa327a0bc49",
   "metadata": {},
   "source": [
    "Você é um funcionário da OMS que deve avaliar os níveis de contaminação de um vírus em um determinado país. As pessoas dentro de uma sociedade podem estar conectadas de alguma maneira (familia, amizade ou trabalho) e cada pessoa possui um conjunto de atributos."
   ]
  },
  {
   "cell_type": "markdown",
   "id": "637629ca-5ece-4581-9f3b-bbfa1bf1c1cb",
   "metadata": {},
   "source": [
    "### Comportamento do vírus"
   ]
  },
  {
   "cell_type": "markdown",
   "id": "1e7b67f1-77fa-4a1c-97fd-f029fc62280b",
   "metadata": {},
   "source": [
    "<b>Este vírus afeta esta sociedade como descrito a seguir: </b>\n",
    "\n",
    "● a taxa de contaminação varia de pessoa para pessoa;\n",
    "\n",
    "● a taxa de contaminação de uma pessoa A para B é diferente de B para A e depende\n",
    "das características de ambas as pessoas (A e B);\n",
    "\n",
    "● a contaminação só passa através de indivíduos conectados;\n",
    "\n",
    "● não existe cura para essa doença;"
   ]
  },
  {
   "cell_type": "markdown",
   "id": "f1265637-fcaa-4d06-97ab-218902f72fa4",
   "metadata": {},
   "source": [
    "### Desafio"
   ]
  },
  {
   "cell_type": "markdown",
   "id": "94a73ced-b6de-4a00-b8a0-d1846cae67f4",
   "metadata": {},
   "source": [
    "Foram coletados os dados de contaminação (ou seja, as taxas de contaminação) para metade desta sociedade. Neste problema, você deverá estimar a taxa para o restante dessa sociedade\n",
    "e decidir políticas de saúde com base nos resultados obtidos."
   ]
  },
  {
   "cell_type": "markdown",
   "id": "6cd860e6-a5ce-4f50-8c94-e787f24ddeff",
   "metadata": {},
   "source": [
    "### Observação"
   ]
  },
  {
   "cell_type": "markdown",
   "id": "67dd19b8-1f2f-447e-85ea-f961723d14e0",
   "metadata": {},
   "source": [
    "Para determinar as taxas de contaminação, devem ser levados em consideração tanto as características dos infectados quanto dos infectantes."
   ]
  },
  {
   "cell_type": "markdown",
   "id": "bf4fe7b7-02e5-48e8-85fe-0f61f4f79965",
   "metadata": {},
   "source": [
    "# <font color='green' style='font-size: 30px;'>Analisando dataset conexões</font>\n",
    "<hr style='border: 2px solid green;'>"
   ]
  },
  {
   "cell_type": "code",
   "execution_count": 2,
   "id": "2d0f6685-0163-4f78-ac2a-47baf8d90d07",
   "metadata": {},
   "outputs": [
    {
     "data": {
      "text/html": [
       "<div>\n",
       "<style scoped>\n",
       "    .dataframe tbody tr th:only-of-type {\n",
       "        vertical-align: middle;\n",
       "    }\n",
       "\n",
       "    .dataframe tbody tr th {\n",
       "        vertical-align: top;\n",
       "    }\n",
       "\n",
       "    .dataframe thead th {\n",
       "        text-align: right;\n",
       "    }\n",
       "</style>\n",
       "<table border=\"1\" class=\"dataframe\">\n",
       "  <thead>\n",
       "    <tr style=\"text-align: right;\">\n",
       "      <th></th>\n",
       "      <th>V1</th>\n",
       "      <th>V2</th>\n",
       "      <th>grau</th>\n",
       "      <th>proximidade</th>\n",
       "      <th>prob_V1_V2</th>\n",
       "    </tr>\n",
       "  </thead>\n",
       "  <tbody>\n",
       "    <tr>\n",
       "      <th>0</th>\n",
       "      <td>1</td>\n",
       "      <td>2</td>\n",
       "      <td>trabalho</td>\n",
       "      <td>visita_frequente</td>\n",
       "      <td>0.589462</td>\n",
       "    </tr>\n",
       "    <tr>\n",
       "      <th>1</th>\n",
       "      <td>1</td>\n",
       "      <td>3</td>\n",
       "      <td>trabalho</td>\n",
       "      <td>visita_rara</td>\n",
       "      <td>0.708465</td>\n",
       "    </tr>\n",
       "    <tr>\n",
       "      <th>2</th>\n",
       "      <td>2</td>\n",
       "      <td>4</td>\n",
       "      <td>trabalho</td>\n",
       "      <td>visita_casual</td>\n",
       "      <td>NaN</td>\n",
       "    </tr>\n",
       "    <tr>\n",
       "      <th>3</th>\n",
       "      <td>2</td>\n",
       "      <td>5</td>\n",
       "      <td>trabalho</td>\n",
       "      <td>visita_rara</td>\n",
       "      <td>0.638842</td>\n",
       "    </tr>\n",
       "    <tr>\n",
       "      <th>4</th>\n",
       "      <td>3</td>\n",
       "      <td>6</td>\n",
       "      <td>amigos</td>\n",
       "      <td>mora_junto</td>\n",
       "      <td>NaN</td>\n",
       "    </tr>\n",
       "  </tbody>\n",
       "</table>\n",
       "</div>"
      ],
      "text/plain": [
       "   V1  V2      grau       proximidade  prob_V1_V2\n",
       "0   1   2  trabalho  visita_frequente    0.589462\n",
       "1   1   3  trabalho       visita_rara    0.708465\n",
       "2   2   4  trabalho     visita_casual         NaN\n",
       "3   2   5  trabalho       visita_rara    0.638842\n",
       "4   3   6    amigos        mora_junto         NaN"
      ]
     },
     "execution_count": 2,
     "metadata": {},
     "output_type": "execute_result"
    }
   ],
   "source": [
    "df_conexoes = pd.read_csv('data/conexoes_espec.csv', sep=';')\n",
    "df_conexoes.head()"
   ]
  },
  {
   "cell_type": "code",
   "execution_count": 3,
   "id": "8d32a1ae-19fd-44ab-a94a-621794593279",
   "metadata": {},
   "outputs": [
    {
     "data": {
      "text/plain": [
       "(999999, 5)"
      ]
     },
     "execution_count": 3,
     "metadata": {},
     "output_type": "execute_result"
    }
   ],
   "source": [
    "df_conexoes.shape"
   ]
  },
  {
   "cell_type": "code",
   "execution_count": 4,
   "id": "e8eb7196-5500-437c-bb62-f7de510ff409",
   "metadata": {},
   "outputs": [
    {
     "name": "stdout",
     "output_type": "stream",
     "text": [
      "Quantidade de dados nulos \n",
      " V1                  0\n",
      "V2                  0\n",
      "grau                0\n",
      "proximidade         0\n",
      "prob_V1_V2     500000\n",
      "dtype: int64\n"
     ]
    }
   ],
   "source": [
    "#Verificando se há valores nulos no dataframe\n",
    "print ('Quantidade de dados nulos \\n', df_conexoes.isna().sum())"
   ]
  },
  {
   "cell_type": "markdown",
   "id": "d2f1d94d-38d5-4c54-af63-d1446d396fe2",
   "metadata": {},
   "source": [
    "# <font color='green' style='font-size: 30px;'>Preenchendo os dados faltantes pela média correspondente dos valores dos atributos grau e proximidade</font>\n",
    "<hr style='border: 2px solid green;'>"
   ]
  },
  {
   "cell_type": "code",
   "execution_count": 5,
   "id": "5b6b13f7-0ed8-4a25-9d65-c8e6680018e3",
   "metadata": {},
   "outputs": [],
   "source": [
    "def media_por_grau_proximidade(df_conexoes, grau):\n",
    "    grau_trabalho = df_conexoes.query(\"grau == grau\")\n",
    "    media_por_grau_proximidade = grau_trabalho.groupby('proximidade')['prob_V1_V2'].mean()\n",
    "    \n",
    "    return media_por_grau_proximidade"
   ]
  },
  {
   "cell_type": "code",
   "execution_count": 6,
   "id": "163124e7-759a-40ed-992c-edea5948b913",
   "metadata": {},
   "outputs": [],
   "source": [
    "def preenchendo_NaN_pela_media_grau_proximidade(df_conexoes):\n",
    "    graus = df_conexoes['grau'].unique()\n",
    "    for grau in graus:\n",
    "        medias = media_por_grau_proximidade(df_conexoes, grau)\n",
    "        for i in range(len(medias)):\n",
    "            proximidade = medias.index[i]\n",
    "            df_conexoes[(df_conexoes['grau'] == grau)&(df_conexoes['proximidade'] == proximidade)] = df_conexoes[(df_conexoes['grau'] == grau)&(df_conexoes['proximidade'] == proximidade)].fillna(value=medias[i])\n"
   ]
  },
  {
   "cell_type": "code",
   "execution_count": null,
   "id": "c02a9edf-2626-41d0-97da-5b841d6a198d",
   "metadata": {},
   "outputs": [],
   "source": []
  }
 ],
 "metadata": {
  "kernelspec": {
   "display_name": "Python 3",
   "language": "python",
   "name": "python3"
  },
  "language_info": {
   "codemirror_mode": {
    "name": "ipython",
    "version": 3
   },
   "file_extension": ".py",
   "mimetype": "text/x-python",
   "name": "python",
   "nbconvert_exporter": "python",
   "pygments_lexer": "ipython3",
   "version": "3.7.9"
  }
 },
 "nbformat": 4,
 "nbformat_minor": 5
}
