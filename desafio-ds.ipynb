{
 "cells": [
  {
   "cell_type": "markdown",
   "id": "998fce4e-5db6-4938-b5fe-b3a369cc9639",
   "metadata": {},
   "source": [
    "# <font color='green' style='font-size: 30px;'>Bibliotecas usadas</font>\n",
    "<hr style='border: 2px solid green;'>"
   ]
  },
  {
   "cell_type": "code",
   "execution_count": 1,
   "id": "456a696a-0b92-4286-9dbf-028977057174",
   "metadata": {},
   "outputs": [],
   "source": [
    "import pandas as pd"
   ]
  },
  {
   "cell_type": "markdown",
   "id": "135275a5-cdc5-4458-a829-ad7aa10b1bdf",
   "metadata": {},
   "source": [
    "# <font color='green' style='font-size: 30px;'>Problema</font>\n",
    "<hr style='border: 2px solid green;'>"
   ]
  },
  {
   "cell_type": "markdown",
   "id": "09acdcb3-9c24-4a9f-b34f-dbec272119ff",
   "metadata": {},
   "source": [
    "### Descrição do problema"
   ]
  },
  {
   "cell_type": "markdown",
   "id": "7a8c0637-582a-4a68-bee4-6fa327a0bc49",
   "metadata": {},
   "source": [
    "Você é um funcionário da OMS que deve avaliar os níveis de contaminação de um vírus em um determinado país. As pessoas dentro de uma sociedade podem estar conectadas de alguma maneira (familia, amizade ou trabalho) e cada pessoa possui um conjunto de atributos."
   ]
  },
  {
   "cell_type": "markdown",
   "id": "637629ca-5ece-4581-9f3b-bbfa1bf1c1cb",
   "metadata": {},
   "source": [
    "### Comportamento do vírus"
   ]
  },
  {
   "cell_type": "markdown",
   "id": "1e7b67f1-77fa-4a1c-97fd-f029fc62280b",
   "metadata": {},
   "source": [
    "<b>Este vírus afeta esta sociedade como descrito a seguir: </b>\n",
    "\n",
    "● a taxa de contaminação varia de pessoa para pessoa;\n",
    "\n",
    "● a taxa de contaminação de uma pessoa A para B é diferente de B para A e depende\n",
    "das características de ambas as pessoas (A e B);\n",
    "\n",
    "● a contaminação só passa através de indivíduos conectados;\n",
    "\n",
    "● não existe cura para essa doença;"
   ]
  },
  {
   "cell_type": "markdown",
   "id": "f1265637-fcaa-4d06-97ab-218902f72fa4",
   "metadata": {},
   "source": [
    "### Desafio"
   ]
  },
  {
   "cell_type": "markdown",
   "id": "94a73ced-b6de-4a00-b8a0-d1846cae67f4",
   "metadata": {},
   "source": [
    "Foram coletados os dados de contaminação (ou seja, as taxas de contaminação) para metade desta sociedade. Neste problema, você deverá estimar a taxa para o restante dessa sociedade\n",
    "e decidir políticas de saúde com base nos resultados obtidos."
   ]
  },
  {
   "cell_type": "markdown",
   "id": "6cd860e6-a5ce-4f50-8c94-e787f24ddeff",
   "metadata": {},
   "source": [
    "### Observação"
   ]
  },
  {
   "cell_type": "markdown",
   "id": "67dd19b8-1f2f-447e-85ea-f961723d14e0",
   "metadata": {},
   "source": [
    "Para determinar as taxas de contaminação, devem ser levados em consideração tanto as características dos infectados quanto dos infectantes."
   ]
  },
  {
   "cell_type": "markdown",
   "id": "bf4fe7b7-02e5-48e8-85fe-0f61f4f79965",
   "metadata": {},
   "source": [
    "# <font color='green' style='font-size: 30px;'>Analisando dataset conexões</font>\n",
    "<hr style='border: 2px solid green;'>"
   ]
  },
  {
   "cell_type": "code",
   "execution_count": 10,
   "id": "2d0f6685-0163-4f78-ac2a-47baf8d90d07",
   "metadata": {},
   "outputs": [
    {
     "data": {
      "text/html": [
       "<div>\n",
       "<style scoped>\n",
       "    .dataframe tbody tr th:only-of-type {\n",
       "        vertical-align: middle;\n",
       "    }\n",
       "\n",
       "    .dataframe tbody tr th {\n",
       "        vertical-align: top;\n",
       "    }\n",
       "\n",
       "    .dataframe thead th {\n",
       "        text-align: right;\n",
       "    }\n",
       "</style>\n",
       "<table border=\"1\" class=\"dataframe\">\n",
       "  <thead>\n",
       "    <tr style=\"text-align: right;\">\n",
       "      <th></th>\n",
       "      <th>V1</th>\n",
       "      <th>V2</th>\n",
       "      <th>grau</th>\n",
       "      <th>proximidade</th>\n",
       "      <th>prob_V1_V2</th>\n",
       "    </tr>\n",
       "  </thead>\n",
       "  <tbody>\n",
       "    <tr>\n",
       "      <th>0</th>\n",
       "      <td>1</td>\n",
       "      <td>2</td>\n",
       "      <td>trabalho</td>\n",
       "      <td>visita_frequente</td>\n",
       "      <td>0.589462</td>\n",
       "    </tr>\n",
       "    <tr>\n",
       "      <th>1</th>\n",
       "      <td>1</td>\n",
       "      <td>3</td>\n",
       "      <td>trabalho</td>\n",
       "      <td>visita_rara</td>\n",
       "      <td>0.708465</td>\n",
       "    </tr>\n",
       "    <tr>\n",
       "      <th>2</th>\n",
       "      <td>2</td>\n",
       "      <td>4</td>\n",
       "      <td>trabalho</td>\n",
       "      <td>visita_casual</td>\n",
       "      <td>NaN</td>\n",
       "    </tr>\n",
       "    <tr>\n",
       "      <th>3</th>\n",
       "      <td>2</td>\n",
       "      <td>5</td>\n",
       "      <td>trabalho</td>\n",
       "      <td>visita_rara</td>\n",
       "      <td>0.638842</td>\n",
       "    </tr>\n",
       "    <tr>\n",
       "      <th>4</th>\n",
       "      <td>3</td>\n",
       "      <td>6</td>\n",
       "      <td>amigos</td>\n",
       "      <td>mora_junto</td>\n",
       "      <td>NaN</td>\n",
       "    </tr>\n",
       "  </tbody>\n",
       "</table>\n",
       "</div>"
      ],
      "text/plain": [
       "   V1  V2      grau       proximidade  prob_V1_V2\n",
       "0   1   2  trabalho  visita_frequente    0.589462\n",
       "1   1   3  trabalho       visita_rara    0.708465\n",
       "2   2   4  trabalho     visita_casual         NaN\n",
       "3   2   5  trabalho       visita_rara    0.638842\n",
       "4   3   6    amigos        mora_junto         NaN"
      ]
     },
     "execution_count": 10,
     "metadata": {},
     "output_type": "execute_result"
    }
   ],
   "source": [
    "df_conexoes = pd.read_csv('data/conexoes_espec.csv', sep=';')\n",
    "df_conexoes.head()"
   ]
  },
  {
   "cell_type": "code",
   "execution_count": 11,
   "id": "8d32a1ae-19fd-44ab-a94a-621794593279",
   "metadata": {},
   "outputs": [
    {
     "data": {
      "text/plain": [
       "(999999, 5)"
      ]
     },
     "execution_count": 11,
     "metadata": {},
     "output_type": "execute_result"
    }
   ],
   "source": [
    "df_conexoes.shape"
   ]
  },
  {
   "cell_type": "code",
   "execution_count": 12,
   "id": "e8eb7196-5500-437c-bb62-f7de510ff409",
   "metadata": {},
   "outputs": [
    {
     "name": "stdout",
     "output_type": "stream",
     "text": [
      "Quantidade de dados nulos \n",
      " V1                  0\n",
      "V2                  0\n",
      "grau                0\n",
      "proximidade         0\n",
      "prob_V1_V2     500000\n",
      "dtype: int64\n"
     ]
    }
   ],
   "source": [
    "#Verificando se há valores nulos no dataframe\n",
    "print ('Quantidade de dados nulos \\n', df_conexoes.isna().sum())"
   ]
  },
  {
   "cell_type": "markdown",
   "id": "d2f1d94d-38d5-4c54-af63-d1446d396fe2",
   "metadata": {},
   "source": [
    "# <font color='green' style='font-size: 30px;'>Preenchendo os dados faltantes pela média correspondente dos valores dos atributos grau e proximidade</font>\n",
    "<hr style='border: 2px solid green;'>"
   ]
  },
  {
   "cell_type": "code",
   "execution_count": 13,
   "id": "5b6b13f7-0ed8-4a25-9d65-c8e6680018e3",
   "metadata": {},
   "outputs": [],
   "source": [
    "def preenchendo_dados_faltantes_prob_V1_V2(df_conexoes):\n",
    "    df_conexoes['prob_V1_V2'] = df_conexoes['prob_V1_V2'].fillna(df_conexoes.groupby(['grau', 'proximidade'])['prob_V1_V2'].transform('mean'))\n",
    "    \n",
    "    return df_conexoes"
   ]
  },
  {
   "cell_type": "markdown",
   "id": "3dcef2ba-4524-4554-a74f-33b5dca00269",
   "metadata": {},
   "source": [
    "# <font color='green' style='font-size: 30px;'>Analisando dataset individuos</font>\n",
    "<hr style='border: 2px solid green;'>"
   ]
  },
  {
   "cell_type": "code",
   "execution_count": 30,
   "id": "2866d2e7-0ff0-4880-b68e-beaf4344f2ef",
   "metadata": {},
   "outputs": [
    {
     "data": {
      "text/html": [
       "<div>\n",
       "<style scoped>\n",
       "    .dataframe tbody tr th:only-of-type {\n",
       "        vertical-align: middle;\n",
       "    }\n",
       "\n",
       "    .dataframe tbody tr th {\n",
       "        vertical-align: top;\n",
       "    }\n",
       "\n",
       "    .dataframe thead th {\n",
       "        text-align: right;\n",
       "    }\n",
       "</style>\n",
       "<table border=\"1\" class=\"dataframe\">\n",
       "  <thead>\n",
       "    <tr style=\"text-align: right;\">\n",
       "      <th></th>\n",
       "      <th>name</th>\n",
       "      <th>idade</th>\n",
       "      <th>estado_civil</th>\n",
       "      <th>qt_filhos</th>\n",
       "      <th>estuda</th>\n",
       "      <th>trabalha</th>\n",
       "      <th>pratica_esportes</th>\n",
       "      <th>transporte_mais_utilizado</th>\n",
       "      <th>IMC</th>\n",
       "    </tr>\n",
       "  </thead>\n",
       "  <tbody>\n",
       "    <tr>\n",
       "      <th>0</th>\n",
       "      <td>1</td>\n",
       "      <td>44.0</td>\n",
       "      <td>divorciado</td>\n",
       "      <td>1.0</td>\n",
       "      <td>1.0</td>\n",
       "      <td>0.0</td>\n",
       "      <td>1.0</td>\n",
       "      <td>publico</td>\n",
       "      <td>22.200956</td>\n",
       "    </tr>\n",
       "    <tr>\n",
       "      <th>1</th>\n",
       "      <td>2</td>\n",
       "      <td>24.0</td>\n",
       "      <td>casado</td>\n",
       "      <td>0.0</td>\n",
       "      <td>0.0</td>\n",
       "      <td>0.0</td>\n",
       "      <td>1.0</td>\n",
       "      <td>publico</td>\n",
       "      <td>25.378720</td>\n",
       "    </tr>\n",
       "    <tr>\n",
       "      <th>2</th>\n",
       "      <td>3</td>\n",
       "      <td>35.0</td>\n",
       "      <td>solteiro</td>\n",
       "      <td>1.0</td>\n",
       "      <td>0.0</td>\n",
       "      <td>0.0</td>\n",
       "      <td>1.0</td>\n",
       "      <td>particular</td>\n",
       "      <td>19.952393</td>\n",
       "    </tr>\n",
       "    <tr>\n",
       "      <th>3</th>\n",
       "      <td>4</td>\n",
       "      <td>50.0</td>\n",
       "      <td>casado</td>\n",
       "      <td>1.0</td>\n",
       "      <td>1.0</td>\n",
       "      <td>1.0</td>\n",
       "      <td>0.0</td>\n",
       "      <td>publico</td>\n",
       "      <td>26.732053</td>\n",
       "    </tr>\n",
       "    <tr>\n",
       "      <th>4</th>\n",
       "      <td>5</td>\n",
       "      <td>30.0</td>\n",
       "      <td>solteiro</td>\n",
       "      <td>2.0</td>\n",
       "      <td>1.0</td>\n",
       "      <td>0.0</td>\n",
       "      <td>1.0</td>\n",
       "      <td>publico</td>\n",
       "      <td>15.295668</td>\n",
       "    </tr>\n",
       "    <tr>\n",
       "      <th>5</th>\n",
       "      <td>6</td>\n",
       "      <td>20.0</td>\n",
       "      <td>NaN</td>\n",
       "      <td>1.0</td>\n",
       "      <td>0.0</td>\n",
       "      <td>1.0</td>\n",
       "      <td>0.0</td>\n",
       "      <td>publico</td>\n",
       "      <td>20.412942</td>\n",
       "    </tr>\n",
       "    <tr>\n",
       "      <th>6</th>\n",
       "      <td>7</td>\n",
       "      <td>55.0</td>\n",
       "      <td>solteiro</td>\n",
       "      <td>1.0</td>\n",
       "      <td>1.0</td>\n",
       "      <td>1.0</td>\n",
       "      <td>1.0</td>\n",
       "      <td>particular</td>\n",
       "      <td>NaN</td>\n",
       "    </tr>\n",
       "    <tr>\n",
       "      <th>7</th>\n",
       "      <td>8</td>\n",
       "      <td>50.0</td>\n",
       "      <td>divorciado</td>\n",
       "      <td>0.0</td>\n",
       "      <td>1.0</td>\n",
       "      <td>0.0</td>\n",
       "      <td>NaN</td>\n",
       "      <td>publico</td>\n",
       "      <td>21.445628</td>\n",
       "    </tr>\n",
       "    <tr>\n",
       "      <th>8</th>\n",
       "      <td>9</td>\n",
       "      <td>42.0</td>\n",
       "      <td>divorciado</td>\n",
       "      <td>1.0</td>\n",
       "      <td>0.0</td>\n",
       "      <td>1.0</td>\n",
       "      <td>NaN</td>\n",
       "      <td>publico</td>\n",
       "      <td>40.793339</td>\n",
       "    </tr>\n",
       "    <tr>\n",
       "      <th>9</th>\n",
       "      <td>10</td>\n",
       "      <td>24.0</td>\n",
       "      <td>divorciado</td>\n",
       "      <td>0.0</td>\n",
       "      <td>0.0</td>\n",
       "      <td>0.0</td>\n",
       "      <td>1.0</td>\n",
       "      <td>publico</td>\n",
       "      <td>26.866953</td>\n",
       "    </tr>\n",
       "    <tr>\n",
       "      <th>10</th>\n",
       "      <td>11</td>\n",
       "      <td>21.0</td>\n",
       "      <td>solteiro</td>\n",
       "      <td>0.0</td>\n",
       "      <td>0.0</td>\n",
       "      <td>0.0</td>\n",
       "      <td>0.0</td>\n",
       "      <td>publico</td>\n",
       "      <td>24.375770</td>\n",
       "    </tr>\n",
       "    <tr>\n",
       "      <th>11</th>\n",
       "      <td>12</td>\n",
       "      <td>42.0</td>\n",
       "      <td>viuvo</td>\n",
       "      <td>1.0</td>\n",
       "      <td>0.0</td>\n",
       "      <td>1.0</td>\n",
       "      <td>0.0</td>\n",
       "      <td>publico</td>\n",
       "      <td>NaN</td>\n",
       "    </tr>\n",
       "    <tr>\n",
       "      <th>12</th>\n",
       "      <td>13</td>\n",
       "      <td>24.0</td>\n",
       "      <td>divorciado</td>\n",
       "      <td>1.0</td>\n",
       "      <td>1.0</td>\n",
       "      <td>1.0</td>\n",
       "      <td>1.0</td>\n",
       "      <td>publico</td>\n",
       "      <td>31.668750</td>\n",
       "    </tr>\n",
       "    <tr>\n",
       "      <th>13</th>\n",
       "      <td>14</td>\n",
       "      <td>29.0</td>\n",
       "      <td>divorciado</td>\n",
       "      <td>1.0</td>\n",
       "      <td>0.0</td>\n",
       "      <td>0.0</td>\n",
       "      <td>0.0</td>\n",
       "      <td>publico</td>\n",
       "      <td>25.373051</td>\n",
       "    </tr>\n",
       "    <tr>\n",
       "      <th>14</th>\n",
       "      <td>15</td>\n",
       "      <td>18.0</td>\n",
       "      <td>divorciado</td>\n",
       "      <td>0.0</td>\n",
       "      <td>1.0</td>\n",
       "      <td>1.0</td>\n",
       "      <td>0.0</td>\n",
       "      <td>taxi</td>\n",
       "      <td>16.365026</td>\n",
       "    </tr>\n",
       "    <tr>\n",
       "      <th>15</th>\n",
       "      <td>16</td>\n",
       "      <td>38.0</td>\n",
       "      <td>viuvo</td>\n",
       "      <td>3.0</td>\n",
       "      <td>NaN</td>\n",
       "      <td>1.0</td>\n",
       "      <td>1.0</td>\n",
       "      <td>publico</td>\n",
       "      <td>NaN</td>\n",
       "    </tr>\n",
       "    <tr>\n",
       "      <th>16</th>\n",
       "      <td>17</td>\n",
       "      <td>NaN</td>\n",
       "      <td>solteiro</td>\n",
       "      <td>0.0</td>\n",
       "      <td>1.0</td>\n",
       "      <td>1.0</td>\n",
       "      <td>1.0</td>\n",
       "      <td>publico</td>\n",
       "      <td>NaN</td>\n",
       "    </tr>\n",
       "  </tbody>\n",
       "</table>\n",
       "</div>"
      ],
      "text/plain": [
       "    name  idade estado_civil  qt_filhos  estuda  trabalha  pratica_esportes  \\\n",
       "0      1   44.0   divorciado        1.0     1.0       0.0               1.0   \n",
       "1      2   24.0       casado        0.0     0.0       0.0               1.0   \n",
       "2      3   35.0     solteiro        1.0     0.0       0.0               1.0   \n",
       "3      4   50.0       casado        1.0     1.0       1.0               0.0   \n",
       "4      5   30.0     solteiro        2.0     1.0       0.0               1.0   \n",
       "5      6   20.0          NaN        1.0     0.0       1.0               0.0   \n",
       "6      7   55.0     solteiro        1.0     1.0       1.0               1.0   \n",
       "7      8   50.0   divorciado        0.0     1.0       0.0               NaN   \n",
       "8      9   42.0   divorciado        1.0     0.0       1.0               NaN   \n",
       "9     10   24.0   divorciado        0.0     0.0       0.0               1.0   \n",
       "10    11   21.0     solteiro        0.0     0.0       0.0               0.0   \n",
       "11    12   42.0        viuvo        1.0     0.0       1.0               0.0   \n",
       "12    13   24.0   divorciado        1.0     1.0       1.0               1.0   \n",
       "13    14   29.0   divorciado        1.0     0.0       0.0               0.0   \n",
       "14    15   18.0   divorciado        0.0     1.0       1.0               0.0   \n",
       "15    16   38.0        viuvo        3.0     NaN       1.0               1.0   \n",
       "16    17    NaN     solteiro        0.0     1.0       1.0               1.0   \n",
       "\n",
       "   transporte_mais_utilizado        IMC  \n",
       "0                    publico  22.200956  \n",
       "1                    publico  25.378720  \n",
       "2                 particular  19.952393  \n",
       "3                    publico  26.732053  \n",
       "4                    publico  15.295668  \n",
       "5                    publico  20.412942  \n",
       "6                 particular        NaN  \n",
       "7                    publico  21.445628  \n",
       "8                    publico  40.793339  \n",
       "9                    publico  26.866953  \n",
       "10                   publico  24.375770  \n",
       "11                   publico        NaN  \n",
       "12                   publico  31.668750  \n",
       "13                   publico  25.373051  \n",
       "14                      taxi  16.365026  \n",
       "15                   publico        NaN  \n",
       "16                   publico        NaN  "
      ]
     },
     "execution_count": 30,
     "metadata": {},
     "output_type": "execute_result"
    }
   ],
   "source": [
    "df_individuos = pd.read_csv('data/individuos_espec.csv', sep=';')\n",
    "df_individuos.head(17)"
   ]
  },
  {
   "cell_type": "code",
   "execution_count": 31,
   "id": "7a8aa067-8a56-45fe-b165-29c6938b5db8",
   "metadata": {},
   "outputs": [
    {
     "data": {
      "text/plain": [
       "(1000000, 9)"
      ]
     },
     "execution_count": 31,
     "metadata": {},
     "output_type": "execute_result"
    }
   ],
   "source": [
    "df_individuos.shape"
   ]
  },
  {
   "cell_type": "code",
   "execution_count": 32,
   "id": "1acd1e7d-2dce-4842-8234-e13e30e56d71",
   "metadata": {},
   "outputs": [
    {
     "name": "stdout",
     "output_type": "stream",
     "text": [
      "Quantidade de dados nulos \n",
      " name                              0\n",
      "idade                         95937\n",
      "estado_civil                  50073\n",
      "qt_filhos                     28867\n",
      "estuda                        40130\n",
      "trabalha                       6353\n",
      "pratica_esportes             149124\n",
      "transporte_mais_utilizado     43033\n",
      "IMC                          113870\n",
      "dtype: int64\n"
     ]
    }
   ],
   "source": [
    "#Verificando se há valores nulos no dataframe\n",
    "print ('Quantidade de dados nulos \\n', df_individuos.isna().sum())"
   ]
  },
  {
   "cell_type": "markdown",
   "id": "9c5ab2b5-cfb2-4f38-b8db-69474c208583",
   "metadata": {},
   "source": [
    "# <font color='green' style='font-size: 30px;'>Preenchendo os dados faltantes da idade pela média correspondente do valor da idade por estado_civil</font>\n",
    "<hr style='border: 2px solid green;'>"
   ]
  },
  {
   "cell_type": "code",
   "execution_count": 37,
   "id": "d566f027-32f9-430e-8b24-0b8874cb3b34",
   "metadata": {},
   "outputs": [],
   "source": [
    "def preenchendo_dados_faltantes_idade(df_individuos):\n",
    "    df_individuos['idade'] = df_individuos['idade'].fillna(df_individuos.groupby('estado_civil')['idade'].transform('mean'))\n",
    "    \n",
    "    return df_individuos"
   ]
  },
  {
   "cell_type": "markdown",
   "id": "42e6bd27-948f-4c50-ad37-fd8b3a8140bd",
   "metadata": {},
   "source": [
    "# <font color='green' style='font-size: 30px;'>Preenchendo os dados faltantes do IMC pela média correspondente do valor do IMC por idade e sendetario</font>\n",
    "<hr style='border: 2px solid green;'>"
   ]
  },
  {
   "cell_type": "code",
   "execution_count": 42,
   "id": "71ed2274-87bf-495f-b1ce-d037556acd05",
   "metadata": {},
   "outputs": [],
   "source": [
    "def preenchendo_dados_faltantes_IMC(df_individuos):\n",
    "    df_individuos['IMC'] = df_individuos['IMC'].fillna(df_individuos.groupby(['idade', 'pratica_esportes'])['IMC'].transform('mean'))\n",
    "    \n",
    "    return df_individuos"
   ]
  },
  {
   "cell_type": "code",
   "execution_count": null,
   "id": "08bd27e9-2ca7-48dc-b0f2-d66d4e255bb3",
   "metadata": {},
   "outputs": [],
   "source": []
  }
 ],
 "metadata": {
  "kernelspec": {
   "display_name": "Python 3",
   "language": "python",
   "name": "python3"
  },
  "language_info": {
   "codemirror_mode": {
    "name": "ipython",
    "version": 3
   },
   "file_extension": ".py",
   "mimetype": "text/x-python",
   "name": "python",
   "nbconvert_exporter": "python",
   "pygments_lexer": "ipython3",
   "version": "3.7.9"
  }
 },
 "nbformat": 4,
 "nbformat_minor": 5
}
